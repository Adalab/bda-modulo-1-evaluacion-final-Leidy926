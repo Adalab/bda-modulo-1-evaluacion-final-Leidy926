{
 "cells": [
  {
   "cell_type": "code",
   "execution_count": 1114,
   "metadata": {},
   "outputs": [],
   "source": [
    "Inventarios = [] # Un diccionario para almacenar los productos del inventario: [{producto: [nombre, precio, cantidad}]\n",
    "clientes = {}  # Un diccionario para almacenar los clientes: {id_cliente: [nombre, email]} \n",
    "ventas_totales = 0.0 # variable que lleva registro ventas iniciado desde cero."
   ]
  },
  {
   "cell_type": "code",
   "execution_count": 1115,
   "metadata": {},
   "outputs": [],
   "source": [
    "\n",
    "# agregar_producto(nombre, precio, cantidad)`: He mirado por apuntes\n",
    "def agregar_producto(nombre, precio, cantidad):\n",
    "    #  Itera a través del inventario y compara los nombres de los productos \n",
    "\n",
    "    for producto in Inventarios:\n",
    "        # Si el producto ya existe, actualiza la cantidad. \n",
    "        if producto[\"nombre\"] == nombre:\n",
    "            producto[\"cantidad\"] += cantidad  \n",
    "            print(f\"Se actualizó la cantidad de '{nombre}' a {producto['cantidad']}.\")\n",
    "            return\n",
    "\n",
    "    # Si el producto no existe, se agrega al inventario\n",
    "    nuevo_producto = {\"nombre\": nombre, \"precio\": precio, \"cantidad\": cantidad}\n",
    "    Inventarios.append(nuevo_producto)\n",
    "    print(f\"Se agregó el producto '{nombre}' al inventario.\")\n",
    "\n",
    "\n",
    "\n",
    "\n"
   ]
  },
  {
   "cell_type": "code",
   "execution_count": 1116,
   "metadata": {},
   "outputs": [
    {
     "name": "stdout",
     "output_type": "stream",
     "text": [
      "Se agregó el producto 'camisa' al inventario.\n",
      "Se agregó el producto 'pantalon' al inventario.\n",
      "Se agregó el producto 'zapatos' al inventario.\n"
     ]
    }
   ],
   "source": [
    "agregar_producto ('camisa', 20,50)\n",
    "agregar_producto ('pantalon',30,30)\n",
    "agregar_producto ('zapatos',50,40)"
   ]
  },
  {
   "cell_type": "code",
   "execution_count": 1117,
   "metadata": {},
   "outputs": [
    {
     "data": {
      "text/plain": [
       "[{'nombre': 'camisa', 'precio': 20, 'cantidad': 50},\n",
       " {'nombre': 'pantalon', 'precio': 30, 'cantidad': 30},\n",
       " {'nombre': 'zapatos', 'precio': 50, 'cantidad': 40}]"
      ]
     },
     "execution_count": 1117,
     "metadata": {},
     "output_type": "execute_result"
    }
   ],
   "source": [
    "Inventarios"
   ]
  },
  {
   "cell_type": "code",
   "execution_count": 1118,
   "metadata": {},
   "outputs": [],
   "source": [
    "# ver_inventario()`: Muestra el inventario de productos con sus detalles. He mirado por apuntes\n",
    "def ver_inventario():\n",
    "    # Utiliza un bucle `for` para recorrer el inventario. \n",
    "   \n",
    "    for producto in Inventarios:\n",
    "        #  Imprime los detalles (nombre, precio, cantidad) de cada producto.\n",
    "        print(f\"Nombre: {producto['nombre']}, Precio: ${producto['precio']}, Cantidad: {producto['cantidad']}\")\n",
    "\n",
    "\n",
    "\n",
    "   "
   ]
  },
  {
   "cell_type": "code",
   "execution_count": 1119,
   "metadata": {},
   "outputs": [
    {
     "name": "stdout",
     "output_type": "stream",
     "text": [
      "Nombre: camisa, Precio: $20, Cantidad: 50\n",
      "Nombre: pantalon, Precio: $30, Cantidad: 30\n",
      "Nombre: zapatos, Precio: $50, Cantidad: 40\n"
     ]
    }
   ],
   "source": [
    "ver_inventario()"
   ]
  },
  {
   "cell_type": "code",
   "execution_count": 1120,
   "metadata": {},
   "outputs": [],
   "source": [
    "# `buscar_producto(nombre)`: Busca un producto en el inventario por nombre y muestra sus detalles si se encuentra. Debe recibir el nombre del producto como parámetro\n",
    "# He mirado por apuntes\n",
    "def buscar_producto_por_nombre(nombre):\n",
    "    #  Utiliza un bucle `for` para recorrer el inventario.\n",
    "    for producto in Inventarios: \n",
    "        # Compara los nombres de los productos con el nombre proporcionado. \n",
    "        if producto['nombre'] == nombre:\n",
    "           #  Si se encuentra el producto, imprime sus detalles. \n",
    "            print(f\"Nombre: {producto['nombre']}, Precio: ${producto['precio']}, Cantidad: {producto['cantidad']}\")\n",
    "            return\n",
    "    print(\"Producto no encontrado en el inventario\")"
   ]
  },
  {
   "cell_type": "code",
   "execution_count": 1121,
   "metadata": {},
   "outputs": [
    {
     "name": "stdout",
     "output_type": "stream",
     "text": [
      "Nombre: camisa, Precio: $20, Cantidad: 50\n"
     ]
    }
   ],
   "source": [
    "buscar_producto_por_nombre ('camisa')"
   ]
  },
  {
   "cell_type": "code",
   "execution_count": 1122,
   "metadata": {},
   "outputs": [],
   "source": [
    "# `actualizar_stock(nombre, cantidad)`:\n",
    "def actualizar_stock (nombre, cantidad):\n",
    "    # Utiliza un bucle `for` para recorrer el inventario. \n",
    "    for producto in Inventarios:\n",
    "        # Busca el producto por nombre. \n",
    "        if producto ['nombre']== nombre:\n",
    "            #  Actualiza la cantidad según la entrada del usuario.\n",
    "            producto['cantidad'] += cantidad\n",
    "            # Si el producto no esta en el inventario muestra un mensaje indicándolo \n",
    "            return\n",
    "    print(\"Producto no encontrado en el inventario.\")\n"
   ]
  },
  {
   "cell_type": "code",
   "execution_count": 1123,
   "metadata": {},
   "outputs": [],
   "source": [
    "actualizar_stock ('camisa',[1]== 100)"
   ]
  },
  {
   "cell_type": "code",
   "execution_count": 1124,
   "metadata": {},
   "outputs": [
    {
     "data": {
      "text/plain": [
       "[{'nombre': 'camisa', 'precio': 20, 'cantidad': 50},\n",
       " {'nombre': 'pantalon', 'precio': 30, 'cantidad': 30},\n",
       " {'nombre': 'zapatos', 'precio': 50, 'cantidad': 40}]"
      ]
     },
     "execution_count": 1124,
     "metadata": {},
     "output_type": "execute_result"
    }
   ],
   "source": [
    "Inventarios"
   ]
  },
  {
   "cell_type": "code",
   "execution_count": 1125,
   "metadata": {},
   "outputs": [
    {
     "name": "stdout",
     "output_type": "stream",
     "text": [
      "Se agregó el producto 'labial' al inventario.\n"
     ]
    }
   ],
   "source": [
    "agregar_producto ('labial',35,2)"
   ]
  },
  {
   "cell_type": "code",
   "execution_count": 1126,
   "metadata": {},
   "outputs": [
    {
     "data": {
      "text/plain": [
       "[{'nombre': 'camisa', 'precio': 20, 'cantidad': 50},\n",
       " {'nombre': 'pantalon', 'precio': 30, 'cantidad': 30},\n",
       " {'nombre': 'zapatos', 'precio': 50, 'cantidad': 40},\n",
       " {'nombre': 'labial', 'precio': 35, 'cantidad': 2}]"
      ]
     },
     "execution_count": 1126,
     "metadata": {},
     "output_type": "execute_result"
    }
   ],
   "source": [
    "Inventarios"
   ]
  },
  {
   "cell_type": "code",
   "execution_count": 1127,
   "metadata": {},
   "outputs": [],
   "source": [
    "# eliminar_producto(nombre)` * aquí he mirado por internet el código, no pude por apuntes resolverlo.\n",
    "def eliminar_producto(nombre):\n",
    "    # Utiliza un bucle `for` para recorrer el inventario.\n",
    "    for i, producto in enumerate(Inventarios): # a partir de  esta línea la he mirado por internet\n",
    "        #  Busca el producto por nombre. \n",
    "        if producto[\"nombre\"].lower().strip() == nombre.lower().strip():\n",
    "            # Elimina el producto del inventario si existe. \n",
    "            del Inventarios[i] \n",
    "            print(f\"Producto '{nombre}' eliminado con éxito.\")\n",
    "            return\n",
    "    #  Si el producto no esta en el inventario muestra un mensaje indicándolo\n",
    "    print(f\"El producto '{nombre}' no se encuentra en el inventario.\")"
   ]
  },
  {
   "cell_type": "code",
   "execution_count": 1128,
   "metadata": {},
   "outputs": [
    {
     "data": {
      "text/plain": [
       "[{'nombre': 'camisa', 'precio': 20, 'cantidad': 50},\n",
       " {'nombre': 'pantalon', 'precio': 30, 'cantidad': 30},\n",
       " {'nombre': 'zapatos', 'precio': 50, 'cantidad': 40},\n",
       " {'nombre': 'labial', 'precio': 35, 'cantidad': 2}]"
      ]
     },
     "execution_count": 1128,
     "metadata": {},
     "output_type": "execute_result"
    }
   ],
   "source": [
    "Inventarios"
   ]
  },
  {
   "cell_type": "code",
   "execution_count": 1129,
   "metadata": {},
   "outputs": [
    {
     "name": "stdout",
     "output_type": "stream",
     "text": [
      "Producto 'labial' eliminado con éxito.\n"
     ]
    }
   ],
   "source": [
    "eliminar_producto ('labial')"
   ]
  },
  {
   "cell_type": "code",
   "execution_count": 1130,
   "metadata": {},
   "outputs": [
    {
     "data": {
      "text/plain": [
       "[{'nombre': 'camisa', 'precio': 20, 'cantidad': 50},\n",
       " {'nombre': 'pantalon', 'precio': 30, 'cantidad': 30},\n",
       " {'nombre': 'zapatos', 'precio': 50, 'cantidad': 40}]"
      ]
     },
     "execution_count": 1130,
     "metadata": {},
     "output_type": "execute_result"
    }
   ],
   "source": [
    "Inventarios"
   ]
  },
  {
   "cell_type": "code",
   "execution_count": 1131,
   "metadata": {},
   "outputs": [],
   "source": [
    "# `calcular_valor_inventario() \n",
    "def calcular_valor_inventario():\n",
    "    \n",
    "    valor_total = 0\n",
    "# Utiliza un bucle for para calcular el valor total del inventario.\n",
    "    for producto in Inventarios:\n",
    "        # Itera a través del inventario y suma el valor de cada producto (precio x cantidad). Es decir, calcula el valor total del inventario.\n",
    "        \n",
    "        valor_total  += producto[\"precio\"] * producto[\"cantidad\"]\n",
    "\n",
    "    print(f\"El valor total del inventario es: {valor_total} euros\")\n",
    "\n"
   ]
  },
  {
   "cell_type": "code",
   "execution_count": 1132,
   "metadata": {},
   "outputs": [
    {
     "data": {
      "text/plain": [
       "[{'nombre': 'camisa', 'precio': 20, 'cantidad': 50},\n",
       " {'nombre': 'pantalon', 'precio': 30, 'cantidad': 30},\n",
       " {'nombre': 'zapatos', 'precio': 50, 'cantidad': 40}]"
      ]
     },
     "execution_count": 1132,
     "metadata": {},
     "output_type": "execute_result"
    }
   ],
   "source": [
    "Inventarios"
   ]
  },
  {
   "cell_type": "code",
   "execution_count": 1133,
   "metadata": {},
   "outputs": [
    {
     "name": "stdout",
     "output_type": "stream",
     "text": [
      "El valor total del inventario es: 3900 euros\n"
     ]
    }
   ],
   "source": [
    "calcular_valor_inventario ()"
   ]
  },
  {
   "cell_type": "code",
   "execution_count": 1134,
   "metadata": {},
   "outputs": [
    {
     "data": {
      "text/plain": [
       "[{'nombre': 'camisa', 'precio': 20, 'cantidad': 50},\n",
       " {'nombre': 'pantalon', 'precio': 30, 'cantidad': 30},\n",
       " {'nombre': 'zapatos', 'precio': 50, 'cantidad': 40}]"
      ]
     },
     "execution_count": 1134,
     "metadata": {},
     "output_type": "execute_result"
    }
   ],
   "source": [
    "Inventarios"
   ]
  },
  {
   "cell_type": "code",
   "execution_count": 1135,
   "metadata": {},
   "outputs": [
    {
     "name": "stdout",
     "output_type": "stream",
     "text": [
      "Nombre: camisa, Precio: $20, Cantidad: 50\n",
      "Nombre: pantalon, Precio: $30, Cantidad: 30\n",
      "Nombre: zapatos, Precio: $50, Cantidad: 40\n",
      "No se realizó ninguna compra.\n"
     ]
    }
   ],
   "source": [
    "\n",
    "inventario = [\n",
    "    {\"nombre\": \"Camisa\", \"precio\": 20, \"cantidad\": 50},\n",
    "    {\"nombre\": \"Pantalón\", \"precio\": 30, \"cantidad\": 30},\n",
    "    {\"nombre\": \"Zapatos\", \"precio\": 50, \"cantidad\": 40},\n",
    "]\n",
    "# Aquí he copiado y pegado la funcion que hice más arriba de ver inventario.\n",
    "def ver_inventario():\n",
    "    # Utiliza un bucle `for` para recorrer el inventario. \n",
    "    for producto in Inventarios:\n",
    "        #  Imprime los detalles (nombre, precio, cantidad) de cada producto.\n",
    "        print(f\"Nombre: {producto['nombre']}, Precio: ${producto['precio']}, Cantidad: {producto['cantidad']}\")\n",
    "\n",
    "    \n",
    "# Almu, toda la funcion,  a prtir de aquí,la he copiado y pegado de internet, ajustándolo a mis parámetros. Una vez pegado, entiendo el problema.\n",
    "def realizar_compra():\n",
    "    \"\"\"Permite a un cliente comprar productos del inventario y actualiza stock.\"\"\"\n",
    "    carrito = []\n",
    "    total_compra = 0\n",
    "# me piden el while\n",
    "    while True:\n",
    "        ver_inventario()\n",
    "        producto_nombre = input(\" Ingrese el nombre del producto que desea comprar (o 'salir' para finalizar): \").strip()\n",
    "\n",
    "        if producto_nombre.lower() == \"salir\":\n",
    "            break  # Finaliza la compra\n",
    "\n",
    "        # Buscar el producto en el inventario\n",
    "        producto_encontrado = None\n",
    "        for producto in inventario:\n",
    "            if producto[\"nombre\"].lower() == producto_nombre.lower():\n",
    "                producto_encontrado = producto\n",
    "                break\n",
    "\n",
    "        if not producto_encontrado:\n",
    "            print(\" Producto no encontrado. Intente de nuevo.\")\n",
    "            continue\n",
    "\n",
    "        # Solicitar cantidad\n",
    "        try:\n",
    "            cantidad_comprar = int(input(\" Ingrese la cantidad de '{producto_encontrado['nombre']}' que desea comprar: \"))\n",
    "        except ValueError:\n",
    "            print( \"Ingrese un número válido.\")\n",
    "            continue\n",
    "\n",
    "        if cantidad_comprar <= 0:\n",
    "            print(\" La cantidad debe ser mayor a 0.\")\n",
    "            continue\n",
    "\n",
    "        if cantidad_comprar > producto_encontrado[\"cantidad\"]:\n",
    "            print(f\" No hay suficiente stock. Solo quedan {producto_encontrado['cantidad']} unidades.\")\n",
    "            continue\n",
    "\n",
    "        # Agregar al carrito y actualizar inventario\n",
    "        producto_encontrado[\"cantidad\"] -= cantidad_comprar\n",
    "        total_producto = producto_encontrado[\"precio\"] * cantidad_comprar\n",
    "        total_compra += total_producto\n",
    "\n",
    "        # Verificar si el producto ya está en el carrito\n",
    "        producto_en_carrito = next((item for item in carrito if item[\"nombre\"] == producto_encontrado[\"nombre\"]), None)\n",
    "        if producto_en_carrito:\n",
    "            producto_en_carrito[\"cantidad\"] += cantidad_comprar\n",
    "            producto_en_carrito[\"total\"] += total_producto\n",
    "        else:\n",
    "            carrito.append({\"nombre\": producto_encontrado[\"nombre\"], \"cantidad\": cantidad_comprar, \"total\": total_producto})\n",
    "\n",
    "        print(f\" {cantidad_comprar} '{producto_encontrado['nombre']}' agregados al carrito. Total parcial: ${total_compra}\")\n",
    "\n",
    "    # Mostrar resumen de compra\n",
    "    if carrito:\n",
    "        print(\"\\n Resumen de la compra:\")\n",
    "        for item in carrito:\n",
    "            print(f\" Producto: {item['nombre']}, Cantidad: {item['cantidad']}, Total: ${item['total']}\")\n",
    "        print(f\"\\n Total a pagar: ${total_compra}\")\n",
    "    else:\n",
    "        print(\"No se realizó ninguna compra.\")\n",
    "\n",
    "# Prueba la función\n",
    "realizar_compra()"
   ]
  },
  {
   "cell_type": "code",
   "execution_count": 1136,
   "metadata": {},
   "outputs": [],
   "source": [
    "#  `procesar_pago()`: Procesa el pago de una compra, calcula el cambio y muestra un mensaje de confirmación\n",
    "def procesar_pago():\n",
    "    # Utiliza un bloque `try...except` para manejar excepciones\n",
    "    try:\n",
    "        # Solicita al cliente ingresar la cantidad total y la cantidad de pago usando input\n",
    "        cantidad_total = float(input(\"ingrese cantidad total: \"))\n",
    "        monto_del_pago = float(input(\"Ingrese el monto:\"))\n",
    "        #  Calcula el cambio y muestra un mensaje de pago exitoso o un error en caso de monto insuficiente\n",
    "        if monto_del_pago >= cantidad_total:\n",
    "            cambio = monto_del_pago - cantidad_total\n",
    "            print(f\"pago exitoso! Tu cambio es ${cambio}\")\n",
    "        else:\n",
    "            print(\"Saldo insuficiente. Pago fallido.\")\n",
    "    except ValueError as e: # lo he mirado en internet\n",
    "        print(f\"Error: {e}\")"
   ]
  },
  {
   "cell_type": "code",
   "execution_count": 1137,
   "metadata": {},
   "outputs": [
    {
     "name": "stdout",
     "output_type": "stream",
     "text": [
      "Error: could not convert string to float: 'salir'\n"
     ]
    }
   ],
   "source": [
    "procesar_pago ()"
   ]
  },
  {
   "cell_type": "code",
   "execution_count": 1138,
   "metadata": {},
   "outputs": [],
   "source": [
    "#  `agregar_cliente(nombre, email)`: Debe recibir el nombre y el correo electrónico del cliente como parámetros\n",
    "def agregar_cliente(nombre, email):\n",
    "    if nombre not in clientes:\n",
    "        #  Agrega un cliente al diccionario de clientes con su nombre y correo \n",
    "        clientes[nombre] = {'email': email, 'compras': []}\n",
    "        print(f\"Cliente {nombre} agregado satisfactoriamente.\")\n",
    "    else:\n",
    "        print(f\"Cliente {nombre} ya existe .\")"
   ]
  },
  {
   "cell_type": "code",
   "execution_count": 1139,
   "metadata": {},
   "outputs": [
    {
     "name": "stdout",
     "output_type": "stream",
     "text": [
      "Cliente Leidy agregado satisfactoriamente.\n",
      "Cliente Nico agregado satisfactoriamente.\n"
     ]
    }
   ],
   "source": [
    "agregar_cliente ('Leidy', 'lejobe72@gmail.com')\n",
    "agregar_cliente ('Nico', 'nico@hotmail.com')"
   ]
  },
  {
   "cell_type": "code",
   "execution_count": 1140,
   "metadata": {},
   "outputs": [],
   "source": [
    "# ver_clientes()`: Muestra la lista de clientes registrados con sus nombres email\n",
    "def ver_clientes():\n",
    "    # Utiliza un bucle `for` para recorrer la base de datos de clientes\n",
    "    for nombre_del_cliente, detalles in clientes.items():\n",
    "        # Imprime los detalles de cada cliente (nombre y correo electrónico)\n",
    "        print(f\"Name: {nombre_del_cliente}, Email: {detalles['email']}\")"
   ]
  },
  {
   "cell_type": "code",
   "execution_count": 1141,
   "metadata": {},
   "outputs": [
    {
     "name": "stdout",
     "output_type": "stream",
     "text": [
      "Name: Leidy, Email: lejobe72@gmail.com\n",
      "Name: Nico, Email: nico@hotmail.com\n"
     ]
    }
   ],
   "source": [
    "ver_clientes ()"
   ]
  },
  {
   "cell_type": "code",
   "execution_count": 1142,
   "metadata": {},
   "outputs": [],
   "source": [
    "# `registrar_compra(nombre_cliente, carrito)`\n",
    "def registrar_compra(nombre_del_cliente, carrito_de_la_compra):\n",
    "    # Busca al cliente en el diccionario de clientes. \n",
    "    if nombre_del_cliente not in clientes:\n",
    "        # # Si el cliente no esta en el diccionario de clientes, muestra que no se puede realizar la acción por que el cliente no está en el diccionario.\n",
    "        print(f\"Cliente {nombre_del_cliente} no encontrado.\")\n",
    "        return\n",
    "     # Calcula el total de la compra y registra la compra, incluyendo los productos y total\n",
    "    costo_total = sum(item['precio'] * item['cantidad'] for item in carrito_de_la_compra.values())\n",
    "    ventas_total += costo_total\n",
    "    \n",
    "    clientes[nombre_del_cliente]['compras'].append(carrito_de_la_compra)\n",
    "    \n",
    "    print(f\"Compras registradas por {nombre_del_cliente}. Costo total: ${costo_total}\")\n"
   ]
  },
  {
   "cell_type": "code",
   "execution_count": 1143,
   "metadata": {},
   "outputs": [],
   "source": [
    "# ver_compras_cliente(nombre_cliente)`\n",
    "def ver_compras_cliente(nombre_del_cliente):\n",
    "   #  Busca al cliente en el diccionario de clientes. \n",
    "    if nombre_del_cliente not in clientes:\n",
    "        print(f\"Cliente {nombre_del_cliente} no encontrado.\")\n",
    "        return\n",
    "    #  Muestra las compras realizadas por el cliente, incluyendo detalles de productos y totales. \n",
    "    compra = clientes[nombre_del_cliente]['compras']\n",
    "    for compra in compras:\n",
    "        for nombre_de_producto, detalles in compra.items():\n",
    "            print(f\"Producto: {nombre_de_producto}, Precio: ${detalles['precio']}, cantidad: {detalles['cantidad']}\")\n"
   ]
  },
  {
   "cell_type": "code",
   "execution_count": 1144,
   "metadata": {},
   "outputs": [
    {
     "ename": "NameError",
     "evalue": "name 'compras' is not defined",
     "output_type": "error",
     "traceback": [
      "\u001b[1;31m---------------------------------------------------------------------------\u001b[0m",
      "\u001b[1;31mNameError\u001b[0m                                 Traceback (most recent call last)",
      "Cell \u001b[1;32mIn[1144], line 1\u001b[0m\n\u001b[1;32m----> 1\u001b[0m ver_compras_cliente (\u001b[38;5;124m'\u001b[39m\u001b[38;5;124mLeidy\u001b[39m\u001b[38;5;124m'\u001b[39m)\n",
      "Cell \u001b[1;32mIn[1143], line 9\u001b[0m, in \u001b[0;36mver_compras_cliente\u001b[1;34m(nombre_del_cliente)\u001b[0m\n\u001b[0;32m      7\u001b[0m \u001b[38;5;66;03m#  Muestra las compras realizadas por el cliente, incluyendo detalles de productos y totales. \u001b[39;00m\n\u001b[0;32m      8\u001b[0m compra \u001b[38;5;241m=\u001b[39m clientes[nombre_del_cliente][\u001b[38;5;124m'\u001b[39m\u001b[38;5;124mcompras\u001b[39m\u001b[38;5;124m'\u001b[39m]\n\u001b[1;32m----> 9\u001b[0m \u001b[38;5;28;01mfor\u001b[39;00m compra \u001b[38;5;129;01min\u001b[39;00m compras:\n\u001b[0;32m     10\u001b[0m     \u001b[38;5;28;01mfor\u001b[39;00m nombre_de_producto, detalles \u001b[38;5;129;01min\u001b[39;00m compra\u001b[38;5;241m.\u001b[39mitems():\n\u001b[0;32m     11\u001b[0m         \u001b[38;5;28mprint\u001b[39m(\u001b[38;5;124mf\u001b[39m\u001b[38;5;124m\"\u001b[39m\u001b[38;5;124mProducto: \u001b[39m\u001b[38;5;132;01m{\u001b[39;00mnombre_de_producto\u001b[38;5;132;01m}\u001b[39;00m\u001b[38;5;124m, Precio: $\u001b[39m\u001b[38;5;132;01m{\u001b[39;00mdetalles[\u001b[38;5;124m'\u001b[39m\u001b[38;5;124mprecio\u001b[39m\u001b[38;5;124m'\u001b[39m]\u001b[38;5;132;01m}\u001b[39;00m\u001b[38;5;124m, cantidad: \u001b[39m\u001b[38;5;132;01m{\u001b[39;00mdetalles[\u001b[38;5;124m'\u001b[39m\u001b[38;5;124mcantidad\u001b[39m\u001b[38;5;124m'\u001b[39m]\u001b[38;5;132;01m}\u001b[39;00m\u001b[38;5;124m\"\u001b[39m)\n",
      "\u001b[1;31mNameError\u001b[0m: name 'compras' is not defined"
     ]
    }
   ],
   "source": [
    "ver_compras_cliente ('Leidy')"
   ]
  },
  {
   "cell_type": "code",
   "execution_count": null,
   "metadata": {},
   "outputs": [],
   "source": [
    "# `calcular_ventas_totales()`: Muestra las ventas totales de la tienda. \n",
    "def calcular_total_ventas():\n",
    "\n",
    "    print(f\"Total Sales: ${ventas_totales}\")"
   ]
  },
  {
   "cell_type": "code",
   "execution_count": null,
   "metadata": {},
   "outputs": [
    {
     "name": "stdout",
     "output_type": "stream",
     "text": [
      "Total Sales: $0.0\n"
     ]
    }
   ],
   "source": [
    "calcular_total_ventas ()"
   ]
  }
 ],
 "metadata": {
  "kernelspec": {
   "display_name": "base",
   "language": "python",
   "name": "python3"
  },
  "language_info": {
   "codemirror_mode": {
    "name": "ipython",
    "version": 3
   },
   "file_extension": ".py",
   "mimetype": "text/x-python",
   "name": "python",
   "nbconvert_exporter": "python",
   "pygments_lexer": "ipython3",
   "version": "3.12.7"
  }
 },
 "nbformat": 4,
 "nbformat_minor": 2
}
